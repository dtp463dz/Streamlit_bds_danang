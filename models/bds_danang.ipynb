{
 "cells": [
  {
   "cell_type": "markdown",
   "metadata": {},
   "source": [
    "## Build and Save the Model"
   ]
  },
  {
   "cell_type": "code",
   "execution_count": 4,
   "metadata": {},
   "outputs": [
    {
     "data": {
      "text/html": [
       "<div>\n",
       "<style scoped>\n",
       "    .dataframe tbody tr th:only-of-type {\n",
       "        vertical-align: middle;\n",
       "    }\n",
       "\n",
       "    .dataframe tbody tr th {\n",
       "        vertical-align: top;\n",
       "    }\n",
       "\n",
       "    .dataframe thead th {\n",
       "        text-align: right;\n",
       "    }\n",
       "</style>\n",
       "<table border=\"1\" class=\"dataframe\">\n",
       "  <thead>\n",
       "    <tr style=\"text-align: right;\">\n",
       "      <th></th>\n",
       "      <th>Title</th>\n",
       "      <th>Price(Ty)</th>\n",
       "      <th>Area(m2)</th>\n",
       "      <th>Bedroom</th>\n",
       "      <th>Toilet</th>\n",
       "      <th>Location</th>\n",
       "      <th>Price_per_m2(trieu)</th>\n",
       "    </tr>\n",
       "  </thead>\n",
       "  <tbody>\n",
       "    <tr>\n",
       "      <th>0</th>\n",
       "      <td>Bán đất biển MT Hoàng Sa 205m2 - Đối diện bãi ...</td>\n",
       "      <td>0.0</td>\n",
       "      <td>205</td>\n",
       "      <td>NaN</td>\n",
       "      <td>NaN</td>\n",
       "      <td>Sơn Trà, Đà Nẵng</td>\n",
       "      <td>NaN</td>\n",
       "    </tr>\n",
       "    <tr>\n",
       "      <th>1</th>\n",
       "      <td>Duy nhất lô góc ngã 4 shophouse Infinity 116m2...</td>\n",
       "      <td>0.0</td>\n",
       "      <td>116</td>\n",
       "      <td>NaN</td>\n",
       "      <td>NaN</td>\n",
       "      <td>Liên Chiểu, Đà Nẵng</td>\n",
       "      <td>NaN</td>\n",
       "    </tr>\n",
       "    <tr>\n",
       "      <th>2</th>\n",
       "      <td>Bán gấp lô đất MT Thủ Khoa Huân - Gần Nguyễn V...</td>\n",
       "      <td>0.0</td>\n",
       "      <td>174</td>\n",
       "      <td>NaN</td>\n",
       "      <td>NaN</td>\n",
       "      <td>Sơn Trà, Đà Nẵng</td>\n",
       "      <td>NaN</td>\n",
       "    </tr>\n",
       "    <tr>\n",
       "      <th>3</th>\n",
       "      <td>Bán nhà An Mỹ 4, An Hải Tây, Sơn Trà, Đà Nẵng</td>\n",
       "      <td>4.3</td>\n",
       "      <td>56</td>\n",
       "      <td>2.0</td>\n",
       "      <td>2.0</td>\n",
       "      <td>Sơn Trà, Đà Nẵng</td>\n",
       "      <td>76.79</td>\n",
       "    </tr>\n",
       "    <tr>\n",
       "      <th>4</th>\n",
       "      <td>Chuyển nhượng quỹ đất phát triển dự án trên 10...</td>\n",
       "      <td>0.0</td>\n",
       "      <td>5.000</td>\n",
       "      <td>NaN</td>\n",
       "      <td>NaN</td>\n",
       "      <td>Điện Bàn, Quảng Nam</td>\n",
       "      <td>NaN</td>\n",
       "    </tr>\n",
       "  </tbody>\n",
       "</table>\n",
       "</div>"
      ],
      "text/plain": [
       "                                               Title  Price(Ty) Area(m2)  \\\n",
       "0  Bán đất biển MT Hoàng Sa 205m2 - Đối diện bãi ...        0.0      205   \n",
       "1  Duy nhất lô góc ngã 4 shophouse Infinity 116m2...        0.0      116   \n",
       "2  Bán gấp lô đất MT Thủ Khoa Huân - Gần Nguyễn V...        0.0      174   \n",
       "3      Bán nhà An Mỹ 4, An Hải Tây, Sơn Trà, Đà Nẵng        4.3       56   \n",
       "4  Chuyển nhượng quỹ đất phát triển dự án trên 10...        0.0    5.000   \n",
       "\n",
       "   Bedroom  Toilet             Location  Price_per_m2(trieu)  \n",
       "0      NaN     NaN     Sơn Trà, Đà Nẵng                  NaN  \n",
       "1      NaN     NaN  Liên Chiểu, Đà Nẵng                  NaN  \n",
       "2      NaN     NaN     Sơn Trà, Đà Nẵng                  NaN  \n",
       "3      2.0     2.0     Sơn Trà, Đà Nẵng                76.79  \n",
       "4      NaN     NaN  Điện Bàn, Quảng Nam                  NaN  "
      ]
     },
     "execution_count": 4,
     "metadata": {},
     "output_type": "execute_result"
    }
   ],
   "source": [
    "import pandas as pd\n",
    "from sklearn.model_selection import train_test_split\n",
    "from sklearn.preprocessing import OneHotEncoder, StandardScaler\n",
    "from sklearn.compose import ColumnTransformer\n",
    "from sklearn.pipeline import Pipeline\n",
    "from sklearn.ensemble import RandomForestRegressor\n",
    "from sklearn.metrics import mean_squared_error\n",
    "import warnings\n",
    "warnings.filterwarnings(\"ignore\") \n",
    "\n",
    "data = pd.read_csv('batdongsandanang_data_cleaned.csv')\n",
    "data.head()"
   ]
  },
  {
   "cell_type": "code",
   "execution_count": 23,
   "metadata": {},
   "outputs": [],
   "source": [
    "warnings.filterwarnings(\"ignore\") \n",
    "data = pd.read_csv('batdongsandanang_data_cleaned.csv')\n",
    "\n",
    "def clean_numeric_column(column):\n",
    "    if data[column].dtype != 'object':\n",
    "        data[column] = data[column].astype(str)\n",
    "    data[column] = data[column].str.replace('.', '', regex=False).str.replace(',', '.', regex=False)\n",
    "    data[column] = pd.to_numeric(data[column], errors='coerce')\n",
    "\n",
    "clean_numeric_column('Price_per_m2(trieu)')\n",
    "clean_numeric_column('Area(m2)')\n",
    "\n",
    "data.fillna(data.mean(numeric_only=True), inplace=True)\n",
    "\n",
    "X = data.drop('Price(Ty)', axis=1)\n",
    "y = data['Price(Ty)']"
   ]
  },
  {
   "cell_type": "code",
   "execution_count": 24,
   "metadata": {},
   "outputs": [],
   "source": [
    "categorical_cols = ['Title', 'Location']  \n",
    "numerical_cols = ['Area(m2)', 'Bedroom', 'Toilet', 'Price_per_m2(trieu)']"
   ]
  },
  {
   "cell_type": "code",
   "execution_count": 25,
   "metadata": {},
   "outputs": [],
   "source": [
    "preprocessor = ColumnTransformer(\n",
    "    transformers=[\n",
    "        ('num', StandardScaler(), numerical_cols),\n",
    "        ('cat', OneHotEncoder(handle_unknown='ignore'), categorical_cols)\n",
    "    ])\n",
    "\n",
    "model = Pipeline([\n",
    "    ('preprocessor', preprocessor),\n",
    "    ('regressor', RandomForestRegressor(n_estimators=100, random_state=123))  \n",
    "])\n",
    "\n",
    "X_train, X_test, y_train, y_test = train_test_split(X, y, test_size=0.2, random_state=123)"
   ]
  },
  {
   "cell_type": "code",
   "execution_count": 26,
   "metadata": {},
   "outputs": [
    {
     "name": "stdout",
     "output_type": "stream",
     "text": [
      "Mean Squared Error: 504.17719923557905\n"
     ]
    }
   ],
   "source": [
    "model.fit(X_train, y_train)\n",
    "\n",
    "y_pred = model.predict(X_test)\n",
    "\n",
    "mse = mean_squared_error(y_test, y_pred)\n",
    "print(\"Mean Squared Error:\", mse)"
   ]
  },
  {
   "cell_type": "code",
   "execution_count": 33,
   "metadata": {},
   "outputs": [
    {
     "data": {
      "text/plain": [
       "['bds_danang.joblib']"
      ]
     },
     "execution_count": 33,
     "metadata": {},
     "output_type": "execute_result"
    }
   ],
   "source": [
    "import joblib\n",
    "\n",
    "joblib.dump(model, 'bds_danang.joblib')"
   ]
  },
  {
   "cell_type": "markdown",
   "metadata": {},
   "source": [
    "## Check the Model and Version of Scikit-Learn"
   ]
  },
  {
   "cell_type": "code",
   "execution_count": 40,
   "metadata": {},
   "outputs": [
    {
     "name": "stdout",
     "output_type": "stream",
     "text": [
      "[10.4476]\n"
     ]
    }
   ],
   "source": [
    "import joblib\n",
    "import pandas as pd\n",
    "\n",
    "loaded_model = joblib.load('bds_danang.joblib')\n",
    "\n",
    "input_data = {\n",
    "    'Title': 'Bán nhà An Mỹ 4, An Hải Tây, Sơn Trà, Đà Nẵng', \n",
    "    'Area(m2)': 150,  \n",
    "    'Bedroom': 3, \n",
    "    'Toilet': 2,  \n",
    "    'Location': 'Sơn Trà, Đà Nẵng',  \n",
    "    'Price_per_m2(trieu)': 70  \n",
    "}\n",
    "\n",
    "input_df = pd.DataFrame([input_data])\n",
    "\n",
    "predictions = loaded_model.predict(input_df)\n",
    "\n",
    "print(predictions)\n"
   ]
  },
  {
   "cell_type": "code",
   "execution_count": 42,
   "metadata": {},
   "outputs": [
    {
     "name": "stdout",
     "output_type": "stream",
     "text": [
      "Dự đoán giá nhà (tỷ đồng): 10 tỷ\n"
     ]
    }
   ],
   "source": [
    "formatted_predictions = [\"{:,.0f} tỷ\".format(prediction) for prediction in predictions]\n",
    "\n",
    "print(f\"Dự đoán giá nhà (tỷ đồng): {formatted_predictions[0]}\")"
   ]
  },
  {
   "cell_type": "code",
   "execution_count": 43,
   "metadata": {},
   "outputs": [
    {
     "name": "stdout",
     "output_type": "stream",
     "text": [
      "1.5.0\n"
     ]
    }
   ],
   "source": [
    "import sklearn\n",
    "print(sklearn.__version__)"
   ]
  },
  {
   "cell_type": "markdown",
   "metadata": {},
   "source": [
    "## Extract Useful Data"
   ]
  },
  {
   "cell_type": "code",
   "execution_count": 44,
   "metadata": {},
   "outputs": [
    {
     "name": "stdout",
     "output_type": "stream",
     "text": [
      "Columns in the dataset: Index(['Title', 'Price(Ty)', 'Area(m2)', 'Bedroom', 'Toilet', 'Location',\n",
      "       'Price_per_m2(trieu)'],\n",
      "      dtype='object')\n",
      "Giá trung bình: 10.95 tỷ đồng\n",
      "Diện tích trung bình: 138.51 m²\n",
      "Số phòng ngủ trung bình: 4.20\n",
      "Số phòng tắm trung bình: 4.01\n",
      "Giá mỗi mét vuông trung bình: 83.01 triệu đồng\n"
     ]
    }
   ],
   "source": [
    "import pandas as pd\n",
    "\n",
    "data = pd.read_csv('batdongsandanang_data_cleaned.csv')\n",
    "\n",
    "print(\"Columns in the dataset:\", data.columns)\n",
    "\n",
    "data['Price(Ty)'] = pd.to_numeric(data['Price(Ty)'], errors='coerce')\n",
    "data['Area(m2)'] = pd.to_numeric(data['Area(m2)'], errors='coerce')\n",
    "data['Bedroom'] = pd.to_numeric(data['Bedroom'], errors='coerce')\n",
    "data['Toilet'] = pd.to_numeric(data['Toilet'], errors='coerce')\n",
    "data['Price_per_m2(trieu)'] = pd.to_numeric(data['Price_per_m2(trieu)'], errors='coerce')\n",
    "\n",
    "data.fillna({\n",
    "    'Price(Ty)': data['Price(Ty)'].mean(),\n",
    "    'Area(m2)': data['Area(m2)'].mean(),\n",
    "    'Bedroom': data['Bedroom'].mean(),\n",
    "    'Toilet': data['Toilet'].mean(),\n",
    "    'Price_per_m2(trieu)': data['Price_per_m2(trieu)'].mean()\n",
    "}, inplace=True)\n",
    "\n",
    "average_price = data['Price(Ty)'].mean()\n",
    "average_area = data['Area(m2)'].mean()\n",
    "average_bedroom = data['Bedroom'].mean()\n",
    "average_toilet = data['Toilet'].mean()\n",
    "average_price_per_m2 = data['Price_per_m2(trieu)'].mean()\n",
    "\n",
    "print(f\"Giá trung bình: {average_price:.2f} tỷ đồng\")\n",
    "print(f\"Diện tích trung bình: {average_area:.2f} m²\")\n",
    "print(f\"Số phòng ngủ trung bình: {average_bedroom:.2f}\")\n",
    "print(f\"Số phòng tắm trung bình: {average_toilet:.2f}\")\n",
    "print(f\"Giá mỗi mét vuông trung bình: {average_price_per_m2:.2f} triệu đồng\")\n"
   ]
  }
 ],
 "metadata": {
  "kernelspec": {
   "display_name": "Python 3",
   "language": "python",
   "name": "python3"
  },
  "language_info": {
   "codemirror_mode": {
    "name": "ipython",
    "version": 3
   },
   "file_extension": ".py",
   "mimetype": "text/x-python",
   "name": "python",
   "nbconvert_exporter": "python",
   "pygments_lexer": "ipython3",
   "version": "3.12.3"
  }
 },
 "nbformat": 4,
 "nbformat_minor": 2
}
